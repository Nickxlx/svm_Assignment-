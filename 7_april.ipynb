{
 "cells": [
  {
   "cell_type": "markdown",
   "id": "60dd470a-dd41-4ab9-95d6-2e376f9a2f36",
   "metadata": {},
   "source": [
    "Q1. What is the relationship between polynomial functions and kernel functions in machine learning algorithms ?\n",
    "\n",
    "Answer-->  Polynomial functions are a specific type of transformation that can be used as a kernel function within SVMs. Kernel functions, including polynomial kernels, allow SVMs to operate in higher-dimensional spaces effectively without the need to explicitly transform the data."
   ]
  },
  {
   "cell_type": "code",
   "execution_count": null,
   "id": "15908334-1407-4f42-bf3c-e699fa221275",
   "metadata": {},
   "outputs": [],
   "source": []
  },
  {
   "cell_type": "markdown",
   "id": "93953bdd-f545-4d4b-b54b-819d2fcb3dc2",
   "metadata": {},
   "source": [
    "Q2. How can we implement an SVM with a polynomial kernel in Python using Scikit-learn?"
   ]
  },
  {
   "cell_type": "markdown",
   "id": "b729172b-e515-4522-88d3-a4f2c865a13a",
   "metadata": {},
   "source": [
    "- We need to import that module from the sklearn\n",
    "\n",
    "    from sklearn.svm import SVC\n",
    "- building the model \n",
    "\n",
    "    svc = SVC(kernel = 'poly')\n",
    "- fiting the model using x_train and y_train features \n",
    "\n",
    "    svc.fit(x_train, y_train)\n",
    "- Predicting for new data\n",
    "\n",
    "    y_pred = svc.predict(x_test)\n",
    "- Evaluating using Accuracy_score \n",
    "\n",
    "    accuracy_score(y_pred, x_test)"
   ]
  },
  {
   "cell_type": "code",
   "execution_count": null,
   "id": "3dc5ac19-7cfb-4dd8-9969-43a4ad94ad43",
   "metadata": {},
   "outputs": [],
   "source": []
  },
  {
   "cell_type": "markdown",
   "id": "5991c4c6-488b-4fdd-a796-99e10c7d2ffb",
   "metadata": {},
   "source": [
    "Q3. How does increasing the value of epsilon affect the number of support vectors in SVR?\n",
    "\n",
    "Answer--> When you increase the value of epsilon (ϵ), you are allowing a larger margin of error in the predictions. This means that data points can be further away from the regression line while still being considered as correctly predicted. As a result:\n",
    "\n",
    "- More data points may fall within the insensitive region and are not treated as support vectors, especially those with smaller residuals.\n",
    "- The number of support vectors may decrease, as the algorithm prioritizes finding a solution with a larger margin and allows more points to be outside the margin."
   ]
  },
  {
   "cell_type": "code",
   "execution_count": null,
   "id": "83651837-9a34-491a-944a-da146b6803a8",
   "metadata": {},
   "outputs": [],
   "source": []
  },
  {
   "cell_type": "markdown",
   "id": "181e43df-37a0-4449-8d11-fd89bcbdf802",
   "metadata": {},
   "source": [
    "Q4. How does the choice of kernel function, C parameter, epsilon parameter, and gamma parameter affect the performance of Support Vector Regression (SVR)? Can you explain how each parameter works and provide examples of when you might want to increase or decrease its value?\n",
    "\n",
    "Answer-->Certainly! Let's delve deeper into each parameter's effect on the performance of Support Vector Regression (SVR) and provide specific examples of when you might want to adjust its value:\n",
    "\n",
    "1. **Kernel Function**:\n",
    "   - **Effect**: The kernel function determines how the data is mapped into a higher-dimensional space, enabling SVR to capture nonlinear relationships between features and the target variable.\n",
    "   - **Examples**:\n",
    "     - Linear Kernel: Use when you believe the data has a linear relationship.\n",
    "     - Polynomial Kernel: Use when you suspect a polynomial relationship and want to control the degree of the polynomial (e.g., quadratic, cubic).\n",
    "     - RBF Kernel: Use for complex, nonlinear relationships with unknown shapes.\n",
    "   - **When to Adjust**: Choose the kernel based on your domain knowledge and the underlying data patterns.\n",
    "\n",
    "2. **C Parameter (Regularization)**:\n",
    "   - **Effect**: The C parameter controls the trade-off between minimizing the training error and maintaining a simple model. A larger C emphasizes fitting the training data more closely, while a smaller C prioritizes a larger margin.\n",
    "   - **Examples**:\n",
    "     - Large C: Use when you have high confidence in the data and want to minimize training errors. Can lead to overfitting if not carefully tuned.\n",
    "     - Small C: Use when you want to avoid overfitting and prioritize a larger margin. More robust to noise.\n",
    "   - **When to Adjust**: Adjust based on the balance between fitting noise and capturing underlying trends.\n",
    "\n",
    "3. **Epsilon Parameter**:\n",
    "   - **Effect**: The epsilon parameter (`ϵ`) defines a tolerance region around the regression line, determining the insensitive loss region. Larger epsilon allows larger errors within this region.\n",
    "   - **Examples**:\n",
    "     - Large Epsilon: Use when the target variable has measurement errors or when you want the regression line to be less sensitive to outliers.\n",
    "     - Small Epsilon: Use when you want to enforce a tighter fit to the data and consider outliers as important points.\n",
    "   - **When to Adjust**: Adjust based on the sensitivity to errors and outliers in your problem.\n",
    "\n",
    "4. **Gamma Parameter**:\n",
    "   - **Effect**: The gamma parameter controls the shape of the decision boundary or regression curve for nonlinear kernels (RBF and sigmoid). It determines the influence of individual training samples.\n",
    "   - **Examples**:\n",
    "     - Large Gamma: Use when you want the regression curve to be more sensitive to local fluctuations in the data. Can lead to overfitting if set too high.\n",
    "     - Small Gamma: Use when you want a smoother regression curve that captures more global trends in the data.\n",
    "   - **When to Adjust**: Tune based on the complexity of the underlying relationships and the amount of data you have."
   ]
  },
  {
   "cell_type": "code",
   "execution_count": null,
   "id": "1d7395f9-6d21-4b61-9fcb-7e9df8edc256",
   "metadata": {},
   "outputs": [],
   "source": []
  },
  {
   "cell_type": "markdown",
   "id": "b8bcd6c4-cef1-49df-b4c1-def36077a247",
   "metadata": {},
   "source": [
    "Q5. Assignment:\n",
    "- Import the necessary libraries and load the dataset.\n",
    "- Split the dataset into training and testing sets.\n",
    "- Preprocess the data using any technique of your choice (e.g. scaling, normalisation\n",
    "- Create an instance of the SVC classifier and train it on the training data\n",
    "- use the trained classifier to predict the labels of the testing data\n",
    "- Evaluate the performance of the classifier using any metric of your choice (e.g. accuracy, precision, recall, F1-score)\n",
    "- Tune the hyperparameters of the SVC classifier using GridSearchCV or RandomiMedSearchCV to improve its performance\n",
    "- Train the tuned classifier on the entire dataset\n",
    "- Save the trained classifier to a file for future use."
   ]
  },
  {
   "cell_type": "code",
   "execution_count": 33,
   "id": "d1697aa6-c253-47cc-ac59-d765d694d7be",
   "metadata": {},
   "outputs": [
    {
     "name": "stdout",
     "output_type": "stream",
     "text": [
      "Accuracy: 0.9824561403508771\n",
      "Best Parameters: {'C': 1, 'gamma': 'scale', 'kernel': 'rbf'}\n",
      "Best Score: 0.9758241758241759\n"
     ]
    },
    {
     "data": {
      "text/plain": [
       "['scaler.pkl']"
      ]
     },
     "execution_count": 33,
     "metadata": {},
     "output_type": "execute_result"
    }
   ],
   "source": [
    "# Import necessary libraries\n",
    "import numpy as np\n",
    "from sklearn.datasets import load_breast_cancer\n",
    "from sklearn.model_selection import train_test_split\n",
    "from sklearn.preprocessing import StandardScaler\n",
    "from sklearn.svm import SVC\n",
    "from sklearn.metrics import accuracy_score\n",
    "from sklearn.model_selection import GridSearchCV\n",
    "import joblib\n",
    "\n",
    "# Load the breast cancer dataset\n",
    "data = load_breast_cancer()\n",
    "X = data.data\n",
    "y = data.target\n",
    "\n",
    "# Split the dataset into training and testing sets\n",
    "X_train, X_test, y_train, y_test = train_test_split(X, y, test_size=0.2, random_state=42)\n",
    "\n",
    "# Preprocess the data using StandardScaler\n",
    "scaler = StandardScaler()\n",
    "X_train_scaled = scaler.fit_transform(X_train)\n",
    "X_test_scaled = scaler.transform(X_test)\n",
    "\n",
    "# Create an instance of the SVC classifier\n",
    "svc = SVC()\n",
    "\n",
    "# Train the classifier on the training data\n",
    "svc.fit(X_train_scaled, y_train)\n",
    "\n",
    "# Use the trained classifier to predict labels for the testing data\n",
    "y_pred = svc.predict(X_test_scaled)\n",
    "\n",
    "# Evaluate the performance using accuracy\n",
    "accuracy = accuracy_score(y_test, y_pred)\n",
    "print(\"Accuracy:\", accuracy)\n",
    "\n",
    "# Tune hyperparameters using GridSearchCV\n",
    "param_grid = {\n",
    "    'C': [0.1, 1, 10],\n",
    "    'kernel': ['linear', 'poly', 'rbf', 'sigmoid'],\n",
    "    'gamma': ['scale', 'auto']\n",
    "}\n",
    "\n",
    "grid_search = GridSearchCV(SVC(), param_grid, cv=5)\n",
    "grid_search.fit(X_train_scaled, y_train)\n",
    "\n",
    "# Get the best parameters and score from the grid search\n",
    "best_params = grid_search.best_params_\n",
    "best_score = grid_search.best_score_\n",
    "print(\"Best Parameters:\", best_params)\n",
    "print(\"Best Score:\", best_score)\n",
    "\n",
    "# Train the tuned classifier on the entire dataset\n",
    "tuned_svc = SVC(**best_params)\n",
    "tuned_svc.fit(X_train_scaled, y_train)\n",
    "\n",
    "# Save the trained classifier to a file\n",
    "joblib.dump(tuned_svc, 'tuned_svc_model.pkl')\n",
    "joblib.dump(scaler, 'scaler.pkl')"
   ]
  }
 ],
 "metadata": {
  "kernelspec": {
   "display_name": "Python 3 (ipykernel)",
   "language": "python",
   "name": "python3"
  },
  "language_info": {
   "codemirror_mode": {
    "name": "ipython",
    "version": 3
   },
   "file_extension": ".py",
   "mimetype": "text/x-python",
   "name": "python",
   "nbconvert_exporter": "python",
   "pygments_lexer": "ipython3",
   "version": "3.10.8"
  }
 },
 "nbformat": 4,
 "nbformat_minor": 5
}
